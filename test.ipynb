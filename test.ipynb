{
 "cells": [
  {
   "cell_type": "code",
   "execution_count": 1,
   "metadata": {},
   "outputs": [],
   "source": [
    "import pandas as pd\n",
    "from fpdf import FPDF\n",
    "import glob\n"
   ]
  },
  {
   "cell_type": "code",
   "execution_count": 2,
   "metadata": {},
   "outputs": [],
   "source": [
    "\n",
    "paths = glob.glob(\"Invoices/*.xlsx\")"
   ]
  },
  {
   "cell_type": "code",
   "execution_count": 9,
   "metadata": {},
   "outputs": [
    {
     "name": "stdout",
     "output_type": "stream",
     "text": [
      "Invoices\\10001-2023.1.18.xlsx\n",
      "10001\n",
      "2023.1.18\n",
      "Invoices\\10002-2023.1.18.xlsx\n",
      "10002\n",
      "2023.1.18\n",
      "Invoices\\10003-2023.1.18.xlsx\n",
      "10003\n",
      "2023.1.18\n"
     ]
    }
   ],
   "source": [
    "for path in paths:\n",
    "    df = pd.read_excel(path, sheet_name=\"Sheet 1\")\n",
    "    print(path)\n",
    "    filename = path[9:14]\n",
    "    Date = path[15:24]\n",
    "    print(filename)\n",
    "    print(Date)"
   ]
  }
 ],
 "metadata": {
  "kernelspec": {
   "display_name": "Python 3",
   "language": "python",
   "name": "python3"
  },
  "language_info": {
   "codemirror_mode": {
    "name": "ipython",
    "version": 3
   },
   "file_extension": ".py",
   "mimetype": "text/x-python",
   "name": "python",
   "nbconvert_exporter": "python",
   "pygments_lexer": "ipython3",
   "version": "3.12.2"
  }
 },
 "nbformat": 4,
 "nbformat_minor": 2
}
